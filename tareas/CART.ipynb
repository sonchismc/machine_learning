{
 "cells": [
  {
   "cell_type": "markdown",
   "metadata": {},
   "source": [
    "* Tarea Arboles de regresión\n",
    "* Sonia Mancera y Maximiliano Guerrero"
   ]
  },
  {
   "cell_type": "code",
   "execution_count": 291,
   "metadata": {},
   "outputs": [],
   "source": [
    "# For Python 2 / 3 compatability\n",
    "from __future__ import print_function\n",
    "import pandas as pd\n",
    "import seaborn as sns\n",
    "import matplotlib.pyplot as plt\n",
    "from statsmodels.datasets import get_rdataset\n",
    "from sklearn.model_selection import train_test_split"
   ]
  },
  {
   "cell_type": "markdown",
   "metadata": {},
   "source": [
    "### data"
   ]
  },
  {
   "cell_type": "code",
   "execution_count": 292,
   "metadata": {},
   "outputs": [],
   "source": [
    "hitters = get_rdataset('Hitters', 'ISLR').data\n",
    "hitters = hitters.dropna()\n",
    "# split 50-50 (asi estaba en R)\n",
    "training_data, test_data = train_test_split(hitters, test_size=0.5, random_state=256)\n"
   ]
  },
  {
   "cell_type": "code",
   "execution_count": 293,
   "metadata": {},
   "outputs": [
    {
     "data": {
      "text/html": [
       "<div>\n",
       "<style scoped>\n",
       "    .dataframe tbody tr th:only-of-type {\n",
       "        vertical-align: middle;\n",
       "    }\n",
       "\n",
       "    .dataframe tbody tr th {\n",
       "        vertical-align: top;\n",
       "    }\n",
       "\n",
       "    .dataframe thead th {\n",
       "        text-align: right;\n",
       "    }\n",
       "</style>\n",
       "<table border=\"1\" class=\"dataframe\">\n",
       "  <thead>\n",
       "    <tr style=\"text-align: right;\">\n",
       "      <th></th>\n",
       "      <th>AtBat</th>\n",
       "      <th>Hits</th>\n",
       "      <th>HmRun</th>\n",
       "      <th>Runs</th>\n",
       "      <th>RBI</th>\n",
       "      <th>Walks</th>\n",
       "      <th>Years</th>\n",
       "      <th>CAtBat</th>\n",
       "      <th>CHits</th>\n",
       "      <th>CHmRun</th>\n",
       "      <th>CRuns</th>\n",
       "      <th>CRBI</th>\n",
       "      <th>CWalks</th>\n",
       "      <th>League</th>\n",
       "      <th>Division</th>\n",
       "      <th>PutOuts</th>\n",
       "      <th>Assists</th>\n",
       "      <th>Errors</th>\n",
       "      <th>Salary</th>\n",
       "      <th>NewLeague</th>\n",
       "    </tr>\n",
       "    <tr>\n",
       "      <th>rownames</th>\n",
       "      <th></th>\n",
       "      <th></th>\n",
       "      <th></th>\n",
       "      <th></th>\n",
       "      <th></th>\n",
       "      <th></th>\n",
       "      <th></th>\n",
       "      <th></th>\n",
       "      <th></th>\n",
       "      <th></th>\n",
       "      <th></th>\n",
       "      <th></th>\n",
       "      <th></th>\n",
       "      <th></th>\n",
       "      <th></th>\n",
       "      <th></th>\n",
       "      <th></th>\n",
       "      <th></th>\n",
       "      <th></th>\n",
       "      <th></th>\n",
       "    </tr>\n",
       "  </thead>\n",
       "  <tbody>\n",
       "    <tr>\n",
       "      <th>-Alan Ashby</th>\n",
       "      <td>315</td>\n",
       "      <td>81</td>\n",
       "      <td>7</td>\n",
       "      <td>24</td>\n",
       "      <td>38</td>\n",
       "      <td>39</td>\n",
       "      <td>14</td>\n",
       "      <td>3449</td>\n",
       "      <td>835</td>\n",
       "      <td>69</td>\n",
       "      <td>321</td>\n",
       "      <td>414</td>\n",
       "      <td>375</td>\n",
       "      <td>N</td>\n",
       "      <td>W</td>\n",
       "      <td>632</td>\n",
       "      <td>43</td>\n",
       "      <td>10</td>\n",
       "      <td>475.0</td>\n",
       "      <td>N</td>\n",
       "    </tr>\n",
       "    <tr>\n",
       "      <th>-Alvin Davis</th>\n",
       "      <td>479</td>\n",
       "      <td>130</td>\n",
       "      <td>18</td>\n",
       "      <td>66</td>\n",
       "      <td>72</td>\n",
       "      <td>76</td>\n",
       "      <td>3</td>\n",
       "      <td>1624</td>\n",
       "      <td>457</td>\n",
       "      <td>63</td>\n",
       "      <td>224</td>\n",
       "      <td>266</td>\n",
       "      <td>263</td>\n",
       "      <td>A</td>\n",
       "      <td>W</td>\n",
       "      <td>880</td>\n",
       "      <td>82</td>\n",
       "      <td>14</td>\n",
       "      <td>480.0</td>\n",
       "      <td>A</td>\n",
       "    </tr>\n",
       "    <tr>\n",
       "      <th>-Andre Dawson</th>\n",
       "      <td>496</td>\n",
       "      <td>141</td>\n",
       "      <td>20</td>\n",
       "      <td>65</td>\n",
       "      <td>78</td>\n",
       "      <td>37</td>\n",
       "      <td>11</td>\n",
       "      <td>5628</td>\n",
       "      <td>1575</td>\n",
       "      <td>225</td>\n",
       "      <td>828</td>\n",
       "      <td>838</td>\n",
       "      <td>354</td>\n",
       "      <td>N</td>\n",
       "      <td>E</td>\n",
       "      <td>200</td>\n",
       "      <td>11</td>\n",
       "      <td>3</td>\n",
       "      <td>500.0</td>\n",
       "      <td>N</td>\n",
       "    </tr>\n",
       "    <tr>\n",
       "      <th>-Andres Galarraga</th>\n",
       "      <td>321</td>\n",
       "      <td>87</td>\n",
       "      <td>10</td>\n",
       "      <td>39</td>\n",
       "      <td>42</td>\n",
       "      <td>30</td>\n",
       "      <td>2</td>\n",
       "      <td>396</td>\n",
       "      <td>101</td>\n",
       "      <td>12</td>\n",
       "      <td>48</td>\n",
       "      <td>46</td>\n",
       "      <td>33</td>\n",
       "      <td>N</td>\n",
       "      <td>E</td>\n",
       "      <td>805</td>\n",
       "      <td>40</td>\n",
       "      <td>4</td>\n",
       "      <td>91.5</td>\n",
       "      <td>N</td>\n",
       "    </tr>\n",
       "    <tr>\n",
       "      <th>-Alfredo Griffin</th>\n",
       "      <td>594</td>\n",
       "      <td>169</td>\n",
       "      <td>4</td>\n",
       "      <td>74</td>\n",
       "      <td>51</td>\n",
       "      <td>35</td>\n",
       "      <td>11</td>\n",
       "      <td>4408</td>\n",
       "      <td>1133</td>\n",
       "      <td>19</td>\n",
       "      <td>501</td>\n",
       "      <td>336</td>\n",
       "      <td>194</td>\n",
       "      <td>A</td>\n",
       "      <td>W</td>\n",
       "      <td>282</td>\n",
       "      <td>421</td>\n",
       "      <td>25</td>\n",
       "      <td>750.0</td>\n",
       "      <td>A</td>\n",
       "    </tr>\n",
       "  </tbody>\n",
       "</table>\n",
       "</div>"
      ],
      "text/plain": [
       "                   AtBat  Hits  HmRun  Runs  RBI  Walks  Years  CAtBat  CHits  \\\n",
       "rownames                                                                        \n",
       "-Alan Ashby          315    81      7    24   38     39     14    3449    835   \n",
       "-Alvin Davis         479   130     18    66   72     76      3    1624    457   \n",
       "-Andre Dawson        496   141     20    65   78     37     11    5628   1575   \n",
       "-Andres Galarraga    321    87     10    39   42     30      2     396    101   \n",
       "-Alfredo Griffin     594   169      4    74   51     35     11    4408   1133   \n",
       "\n",
       "                   CHmRun  CRuns  CRBI  CWalks League Division  PutOuts  \\\n",
       "rownames                                                                  \n",
       "-Alan Ashby            69    321   414     375      N        W      632   \n",
       "-Alvin Davis           63    224   266     263      A        W      880   \n",
       "-Andre Dawson         225    828   838     354      N        E      200   \n",
       "-Andres Galarraga      12     48    46      33      N        E      805   \n",
       "-Alfredo Griffin       19    501   336     194      A        W      282   \n",
       "\n",
       "                   Assists  Errors  Salary NewLeague  \n",
       "rownames                                              \n",
       "-Alan Ashby             43      10   475.0         N  \n",
       "-Alvin Davis            82      14   480.0         A  \n",
       "-Andre Dawson           11       3   500.0         N  \n",
       "-Andres Galarraga       40       4    91.5         N  \n",
       "-Alfredo Griffin       421      25   750.0         A  "
      ]
     },
     "execution_count": 293,
     "metadata": {},
     "output_type": "execute_result"
    }
   ],
   "source": [
    "hitters.head()"
   ]
  },
  {
   "cell_type": "markdown",
   "metadata": {},
   "source": [
    "## funciones"
   ]
  },
  {
   "cell_type": "code",
   "execution_count": 294,
   "metadata": {},
   "outputs": [],
   "source": [
    "def is_numeric(value):\n",
    "    \"\"\"Test if a value is numeric.\"\"\"\n",
    "    return isinstance(value, (int, float)) or (hasattr(value, 'dtype') and 'int' in str(value.dtype)) \n",
    "#le tuve que agregar esto porque me salia class numpy.int y no supe como mas arreglarlo. salu2"
   ]
  },
  {
   "cell_type": "code",
   "execution_count": 295,
   "metadata": {},
   "outputs": [],
   "source": [
    "class Question:\n",
    "    \"\"\"A Question is used to partition a dataset.\"\"\"\n",
    "    def __init__(self, column, value):\n",
    "        self.column = column\n",
    "        self.value = value\n",
    "\n",
    "    def match(self, example):\n",
    "        val = example[self.column]\n",
    "        if is_numeric(val):\n",
    "            return val >= self.value\n",
    "        else:\n",
    "            return val == self.value\n",
    "\n",
    "    def __repr__(self):\n",
    "        condition = \">=\"\n",
    "        if not is_numeric(self.value):\n",
    "            condition = \"==\"\n",
    "        return f\"Is {self.column} {condition} {self.value}?\""
   ]
  },
  {
   "cell_type": "code",
   "execution_count": 296,
   "metadata": {},
   "outputs": [],
   "source": [
    "def partition(df, question):\n",
    "    \"\"\"\n",
    "    Divide un df según una pregunta.\n",
    "    \"\"\"\n",
    "    true_rows = df[df.apply(lambda row: question.match(row), axis=1)]\n",
    "    false_rows = df[~df.apply(lambda row: question.match(row), axis=1)]\n",
    "\n",
    "    return true_rows, false_rows\n"
   ]
  },
  {
   "cell_type": "code",
   "execution_count": 297,
   "metadata": {},
   "outputs": [],
   "source": [
    "def mse(df, objetivo):\n",
    "    \"\"\"\n",
    "    Calcula el Error Cuadrático Medio (MSE) para una columna de un df.\n",
    "    \"\"\"\n",
    "    valores_objetivo = df[objetivo]\n",
    "    media = valores_objetivo.mean()\n",
    "    mse_value = ((valores_objetivo - media) ** 2).mean()\n",
    "    \n",
    "    return mse_value\n"
   ]
  },
  {
   "cell_type": "code",
   "execution_count": 298,
   "metadata": {},
   "outputs": [],
   "source": [
    "def info_gain(left, right, current_mse, objetivo):\n",
    "    \"\"\"Information Gain.\n",
    "\n",
    "    The uncertainty of the starting node, minus the weighted impurity of\n",
    "    two child nodes.\n",
    "    \"\"\"\n",
    "    p = float(len(left)) / (len(left) + len(right))\n",
    "    return current_mse - p * mse(left, objetivo) - (1 - p) * mse(right, objetivo)"
   ]
  },
  {
   "cell_type": "markdown",
   "metadata": {},
   "source": [
    "### demo"
   ]
  },
  {
   "cell_type": "code",
   "execution_count": 299,
   "metadata": {},
   "outputs": [
    {
     "data": {
      "text/plain": [
       "Is CHits >= 500?"
      ]
     },
     "execution_count": 299,
     "metadata": {},
     "output_type": "execute_result"
    }
   ],
   "source": [
    "mi_pregunta = Question('CHits', 500)\n",
    "mi_pregunta"
   ]
  },
  {
   "cell_type": "code",
   "execution_count": 300,
   "metadata": {},
   "outputs": [
    {
     "data": {
      "text/plain": [
       "np.float64(202734.26915834734)"
      ]
     },
     "execution_count": 300,
     "metadata": {},
     "output_type": "execute_result"
    }
   ],
   "source": [
    "current_mse = mse(hitters, 'Salary')\n",
    "current_mse"
   ]
  },
  {
   "cell_type": "code",
   "execution_count": 301,
   "metadata": {},
   "outputs": [
    {
     "data": {
      "text/html": [
       "<div>\n",
       "<style scoped>\n",
       "    .dataframe tbody tr th:only-of-type {\n",
       "        vertical-align: middle;\n",
       "    }\n",
       "\n",
       "    .dataframe tbody tr th {\n",
       "        vertical-align: top;\n",
       "    }\n",
       "\n",
       "    .dataframe thead th {\n",
       "        text-align: right;\n",
       "    }\n",
       "</style>\n",
       "<table border=\"1\" class=\"dataframe\">\n",
       "  <thead>\n",
       "    <tr style=\"text-align: right;\">\n",
       "      <th></th>\n",
       "      <th>AtBat</th>\n",
       "      <th>Hits</th>\n",
       "      <th>HmRun</th>\n",
       "      <th>Runs</th>\n",
       "      <th>RBI</th>\n",
       "      <th>Walks</th>\n",
       "      <th>Years</th>\n",
       "      <th>CAtBat</th>\n",
       "      <th>CHits</th>\n",
       "      <th>CHmRun</th>\n",
       "      <th>CRuns</th>\n",
       "      <th>CRBI</th>\n",
       "      <th>CWalks</th>\n",
       "      <th>League</th>\n",
       "      <th>Division</th>\n",
       "      <th>PutOuts</th>\n",
       "      <th>Assists</th>\n",
       "      <th>Errors</th>\n",
       "      <th>Salary</th>\n",
       "      <th>NewLeague</th>\n",
       "    </tr>\n",
       "    <tr>\n",
       "      <th>rownames</th>\n",
       "      <th></th>\n",
       "      <th></th>\n",
       "      <th></th>\n",
       "      <th></th>\n",
       "      <th></th>\n",
       "      <th></th>\n",
       "      <th></th>\n",
       "      <th></th>\n",
       "      <th></th>\n",
       "      <th></th>\n",
       "      <th></th>\n",
       "      <th></th>\n",
       "      <th></th>\n",
       "      <th></th>\n",
       "      <th></th>\n",
       "      <th></th>\n",
       "      <th></th>\n",
       "      <th></th>\n",
       "      <th></th>\n",
       "      <th></th>\n",
       "    </tr>\n",
       "  </thead>\n",
       "  <tbody>\n",
       "    <tr>\n",
       "      <th>-Alvin Davis</th>\n",
       "      <td>479</td>\n",
       "      <td>130</td>\n",
       "      <td>18</td>\n",
       "      <td>66</td>\n",
       "      <td>72</td>\n",
       "      <td>76</td>\n",
       "      <td>3</td>\n",
       "      <td>1624</td>\n",
       "      <td>457</td>\n",
       "      <td>63</td>\n",
       "      <td>224</td>\n",
       "      <td>266</td>\n",
       "      <td>263</td>\n",
       "      <td>A</td>\n",
       "      <td>W</td>\n",
       "      <td>880</td>\n",
       "      <td>82</td>\n",
       "      <td>14</td>\n",
       "      <td>480.0</td>\n",
       "      <td>A</td>\n",
       "    </tr>\n",
       "    <tr>\n",
       "      <th>-Andres Galarraga</th>\n",
       "      <td>321</td>\n",
       "      <td>87</td>\n",
       "      <td>10</td>\n",
       "      <td>39</td>\n",
       "      <td>42</td>\n",
       "      <td>30</td>\n",
       "      <td>2</td>\n",
       "      <td>396</td>\n",
       "      <td>101</td>\n",
       "      <td>12</td>\n",
       "      <td>48</td>\n",
       "      <td>46</td>\n",
       "      <td>33</td>\n",
       "      <td>N</td>\n",
       "      <td>E</td>\n",
       "      <td>805</td>\n",
       "      <td>40</td>\n",
       "      <td>4</td>\n",
       "      <td>91.5</td>\n",
       "      <td>N</td>\n",
       "    </tr>\n",
       "  </tbody>\n",
       "</table>\n",
       "</div>"
      ],
      "text/plain": [
       "                   AtBat  Hits  HmRun  Runs  RBI  Walks  Years  CAtBat  CHits  \\\n",
       "rownames                                                                        \n",
       "-Alvin Davis         479   130     18    66   72     76      3    1624    457   \n",
       "-Andres Galarraga    321    87     10    39   42     30      2     396    101   \n",
       "\n",
       "                   CHmRun  CRuns  CRBI  CWalks League Division  PutOuts  \\\n",
       "rownames                                                                  \n",
       "-Alvin Davis           63    224   266     263      A        W      880   \n",
       "-Andres Galarraga      12     48    46      33      N        E      805   \n",
       "\n",
       "                   Assists  Errors  Salary NewLeague  \n",
       "rownames                                              \n",
       "-Alvin Davis            82      14   480.0         A  \n",
       "-Andres Galarraga       40       4    91.5         N  "
      ]
     },
     "execution_count": 301,
     "metadata": {},
     "output_type": "execute_result"
    }
   ],
   "source": [
    "left_df, right_df = partition(hitters, mi_pregunta)\n",
    "right_df.head(2)"
   ]
  },
  {
   "cell_type": "code",
   "execution_count": 302,
   "metadata": {},
   "outputs": [
    {
     "data": {
      "text/plain": [
       "np.float64(70605.39649291968)"
      ]
     },
     "execution_count": 302,
     "metadata": {},
     "output_type": "execute_result"
    }
   ],
   "source": [
    "gain = info_gain(left_df, right_df, current_mse, 'Salary')\n",
    "gain"
   ]
  },
  {
   "cell_type": "code",
   "execution_count": 303,
   "metadata": {},
   "outputs": [],
   "source": [
    "def find_best_split(df, objetivo):\n",
    "    \"\"\"\n",
    "    Encuentra la mejor pregunta para hacer dividiendo el DataFrame en función\n",
    "    de la ganancia de información.\n",
    "    \"\"\"\n",
    "    best_gain = 0 \n",
    "    best_question = None  \n",
    "    current_mse = mse(df, objetivo)  \n",
    "    \n",
    "    feature_columns = [col for col in df.columns if col != objetivo]\n",
    "\n",
    "    for col in feature_columns:  \n",
    "\n",
    "        values = df[col].unique() \n",
    "        for val in values: \n",
    "            question = Question(col, val)\n",
    "            left_df, right_df = partition(df, question)\n",
    "            if len(left_df) == 0 or len(right_df) == 0:\n",
    "                continue\n",
    "\n",
    "            gain = info_gain(left_df, right_df, current_mse, objetivo)\n",
    "\n",
    "            if gain > best_gain:\n",
    "                best_gain, best_question = gain, question\n",
    "\n",
    "    return best_gain, best_question\n"
   ]
  },
  {
   "cell_type": "code",
   "execution_count": 304,
   "metadata": {},
   "outputs": [
    {
     "data": {
      "text/plain": [
       "Is CRuns >= 330?"
      ]
     },
     "execution_count": 304,
     "metadata": {},
     "output_type": "execute_result"
    }
   ],
   "source": [
    "#######\n",
    "# Demo:\n",
    "best_gain, best_question = find_best_split(training_data, 'Salary')\n",
    "best_question\n",
    "#######"
   ]
  },
  {
   "cell_type": "code",
   "execution_count": 305,
   "metadata": {},
   "outputs": [],
   "source": [
    "class Leaf:\n",
    "    \"\"\"Un nodo de hoja clasifica datos.\n",
    "    \"\"\"\n",
    "\n",
    "    def __init__(self, df, objetivo):\n",
    "        self.prediction = df[objetivo].mean()\n",
    "    \n",
    "    def __repr__(self):\n",
    "        \"\"\"\n",
    "        pa que si imprima\n",
    "        \"\"\"\n",
    "        return f\"Leaf(prediction={self.prediction})\"\n",
    "\n"
   ]
  },
  {
   "cell_type": "code",
   "execution_count": 306,
   "metadata": {},
   "outputs": [
    {
     "data": {
      "text/plain": [
       "Leaf(prediction=535.9258821292775)"
      ]
     },
     "execution_count": 306,
     "metadata": {},
     "output_type": "execute_result"
    }
   ],
   "source": [
    "Leaf(hitters, 'Salary')\n"
   ]
  },
  {
   "cell_type": "code",
   "execution_count": 307,
   "metadata": {},
   "outputs": [],
   "source": [
    "class Decision_Node:\n",
    "    \"\"\"A Decision Node asks a question.\n",
    "\n",
    "    This holds a reference to the question, and to the two child nodes.\n",
    "    \"\"\"\n",
    "\n",
    "    def __init__(self,\n",
    "                 question,\n",
    "                 true_branch,\n",
    "                 false_branch):\n",
    "        self.question = question\n",
    "        self.true_branch = true_branch\n",
    "        self.false_branch = false_branch"
   ]
  },
  {
   "cell_type": "code",
   "execution_count": 308,
   "metadata": {},
   "outputs": [],
   "source": [
    "def build_tree(df, objetivo):\n",
    "    \"\"\"Builds the tree.\n",
    "\n",
    "    Rules of recursion: 1) Believe that it works. 2) Start by checking\n",
    "    for the base case (no further information gain). 3) Prepare for\n",
    "    giant stack traces.\n",
    "    \"\"\"\n",
    "        # Try partitioing the dataset on each of the unique attribute,\n",
    "    # calculate the information gain,\n",
    "    # and return the question that produces the highest gain.\n",
    "    gain, question = find_best_split(df, objetivo)\n",
    "\n",
    "    # Base case: no further info gain\n",
    "    # Since we can ask no further questions,\n",
    "    # we'll return a leaf.\n",
    "    if gain == 0 :\n",
    "        return Leaf(df, objetivo)\n",
    "\n",
    "    # If we reach here, we have found a useful feature / value\n",
    "    # to partition on.\n",
    "    left_df, right_df = partition(df, question)\n",
    "    \n",
    "    # Recursively build the true branch.\n",
    "    true_branch = build_tree(left_df, objetivo)\n",
    "\n",
    "    # Recursively build the false branch.\n",
    "    false_branch = build_tree(right_df, objetivo)\n",
    "\n",
    "\n",
    "    # Return a Question node.\n",
    "    # This records the best feature / value to ask at this point,\n",
    "    # as well as the branches to follow\n",
    "    # dependingo on the answer.\n",
    "    return Decision_Node(question, true_branch, false_branch)"
   ]
  },
  {
   "cell_type": "code",
   "execution_count": 309,
   "metadata": {},
   "outputs": [],
   "source": [
    "def build_tree(df, objetivo, depth=0, max_depth=4):\n",
    "    \"\"\"Builds the tree.\n",
    "\n",
    "    Rules of recursion: 1) Believe that it works. 2) Start by checking\n",
    "    for the base case (no further information gain). 3) Prepare for\n",
    "    giant stack traces.\n",
    "    \"\"\"\n",
    "    # Try partitioning the dataset on each of the unique attributes,\n",
    "    # calculate the information gain,\n",
    "    # and return the question that produces the highest gain.\n",
    "    gain, question = find_best_split(df, objetivo)\n",
    "\n",
    "    # Base case: no further info gain or max depth reached\n",
    "    # Since we can ask no further questions or have reached max depth,\n",
    "    # we'll return a leaf.\n",
    "    if gain == 0 or depth >= max_depth:\n",
    "        return Leaf(df, objetivo)\n",
    "\n",
    "    # If we reach here, we have found a useful feature / value\n",
    "    # to partition on.\n",
    "    left_df, right_df = partition(df, question)\n",
    "    \n",
    "    # Recursively build the true branch.\n",
    "    true_branch = build_tree(left_df, objetivo, depth + 1, max_depth)\n",
    "\n",
    "    # Recursively build the false branch.\n",
    "    false_branch = build_tree(right_df, objetivo, depth + 1, max_depth)\n",
    "\n",
    "    # Return a Question node.\n",
    "    # This records the best feature / value to ask at this point,\n",
    "    # as well as the branches to follow depending on the answer.\n",
    "    return Decision_Node(question, true_branch, false_branch)\n"
   ]
  },
  {
   "cell_type": "code",
   "execution_count": 310,
   "metadata": {},
   "outputs": [],
   "source": [
    "def print_tree(node, spacing=\"\"):\n",
    "    \"\"\"World's most elegant tree printing function.\"\"\"\n",
    "\n",
    "    # Base case: we've reached a leaf\n",
    "    if isinstance(node, Leaf):\n",
    "        print (spacing + \"Predict\", node.prediction)\n",
    "        return\n",
    "\n",
    "    # Print the question at this node\n",
    "    print (spacing + str(node.question))\n",
    "\n",
    "    # Call this function recursively on the true branch\n",
    "    print (spacing + '--> True:')\n",
    "    print_tree(node.true_branch, spacing + \"  \")\n",
    "\n",
    "    # Call this function recursively on the false branch\n",
    "    print (spacing + '--> False:')\n",
    "    print_tree(node.false_branch, spacing + \"  \")"
   ]
  },
  {
   "cell_type": "markdown",
   "metadata": {},
   "source": [
    "## build a tree"
   ]
  },
  {
   "cell_type": "code",
   "execution_count": 311,
   "metadata": {},
   "outputs": [],
   "source": [
    "my_tree = build_tree(training_data, 'Salary')"
   ]
  },
  {
   "cell_type": "code",
   "execution_count": 312,
   "metadata": {},
   "outputs": [
    {
     "name": "stdout",
     "output_type": "stream",
     "text": [
      "Is CRuns >= 330?\n",
      "--> True:\n",
      "  Is Runs >= 84?\n",
      "  --> True:\n",
      "    Is PutOuts >= 292?\n",
      "    --> True:\n",
      "      Is CHmRun >= 93?\n",
      "      --> True:\n",
      "        Predict 1936.493333333333\n",
      "      --> False:\n",
      "        Predict 1020.0\n",
      "    --> False:\n",
      "      Is Assists >= 290?\n",
      "      --> True:\n",
      "        Predict 704.28575\n",
      "      --> False:\n",
      "        Predict 1210.4167499999999\n",
      "  --> False:\n",
      "    Is PutOuts >= 295?\n",
      "    --> True:\n",
      "      Is CHmRun >= 194?\n",
      "      --> True:\n",
      "        Predict 1183.3333333333333\n",
      "      --> False:\n",
      "        Predict 798.1818181818181\n",
      "    --> False:\n",
      "      Is Hits >= 119?\n",
      "      --> True:\n",
      "        Predict 732.4545454545455\n",
      "      --> False:\n",
      "        Predict 504.31370588235296\n",
      "--> False:\n",
      "  Is CRuns >= 211?\n",
      "  --> True:\n",
      "    Is PutOuts >= 109?\n",
      "    --> True:\n",
      "      Is Division == E?\n",
      "      --> True:\n",
      "        Predict 638.3332857142858\n",
      "      --> False:\n",
      "        Predict 486.458375\n",
      "    --> False:\n",
      "      Is Years >= 10?\n",
      "      --> True:\n",
      "        Predict 276.25\n",
      "      --> False:\n",
      "        Predict 393.75\n",
      "  --> False:\n",
      "    Is AtBat >= 151?\n",
      "    --> True:\n",
      "      Is CAtBat >= 822?\n",
      "      --> True:\n",
      "        Predict 275.06945833333333\n",
      "      --> False:\n",
      "        Predict 121.84482758620689\n",
      "    --> False:\n",
      "      Predict 920.0\n"
     ]
    }
   ],
   "source": [
    "print_tree(my_tree)"
   ]
  },
  {
   "cell_type": "markdown",
   "metadata": {},
   "source": [
    "## predictions"
   ]
  },
  {
   "cell_type": "code",
   "execution_count": 322,
   "metadata": {},
   "outputs": [],
   "source": [
    "def predict(row, node):\n",
    "    \"\"\"Recursively predict the value for a given row using the decision tree.\"\"\"\n",
    "\n",
    "    # Base case: we've reached a leaf\n",
    "    if isinstance(node, Leaf):\n",
    "        return node.prediction\n",
    "\n",
    "    # Decide whether to follow the true-branch or the false-branch.\n",
    "    if node.question.match(row):\n",
    "        return predict(row, node.true_branch)\n",
    "    else:\n",
    "        return predict(row, node.false_branch)\n"
   ]
  },
  {
   "cell_type": "code",
   "execution_count": 336,
   "metadata": {},
   "outputs": [
    {
     "data": {
      "text/plain": [
       "np.float64(121.84482758620689)"
      ]
     },
     "execution_count": 336,
     "metadata": {},
     "output_type": "execute_result"
    }
   ],
   "source": [
    "#######\n",
    "# Demo:\n",
    "# The tree predicts the 1st row of our data is\n",
    "predict(test_data.iloc[0], my_tree)\n",
    "#######"
   ]
  },
  {
   "cell_type": "code",
   "execution_count": 330,
   "metadata": {},
   "outputs": [],
   "source": [
    "def print_leaf(predictions):\n",
    "    \"\"\"A nicer way to print the predictions at a leaf for regression.\"\"\"\n",
    "    return f\"Predicted value: {predictions:.2f}\"\n"
   ]
  },
  {
   "cell_type": "code",
   "execution_count": 338,
   "metadata": {},
   "outputs": [
    {
     "data": {
      "text/plain": [
       "'Predicted value: 121.84'"
      ]
     },
     "execution_count": 338,
     "metadata": {},
     "output_type": "execute_result"
    }
   ],
   "source": [
    "#######\n",
    "# Demo:\n",
    "# Printing that a bit nicer\n",
    "print_leaf(predict(test_data.iloc[0], my_tree))\n",
    "#######"
   ]
  },
  {
   "cell_type": "code",
   "execution_count": 337,
   "metadata": {},
   "outputs": [
    {
     "data": {
      "text/plain": [
       "'Predicted value: 638.33'"
      ]
     },
     "execution_count": 337,
     "metadata": {},
     "output_type": "execute_result"
    }
   ],
   "source": [
    "#######\n",
    "# Demo:\n",
    "# On the second example, the confidence is lower\n",
    "print_leaf(predict(test_data.iloc[1], my_tree))\n",
    "#######"
   ]
  },
  {
   "cell_type": "code",
   "execution_count": 339,
   "metadata": {},
   "outputs": [
    {
     "name": "stdout",
     "output_type": "stream",
     "text": [
      "Actual: 135.00. Predicted: 121.84\n",
      "Actual: 525.00. Predicted: 638.33\n",
      "Actual: 1100.00. Predicted: 504.31\n",
      "Actual: 100.00. Predicted: 121.84\n",
      "Actual: 100.00. Predicted: 121.84\n",
      "Actual: 250.00. Predicted: 638.33\n",
      "Actual: 450.00. Predicted: 504.31\n",
      "Actual: 1183.33. Predicted: 798.18\n",
      "Actual: 1043.33. Predicted: 732.45\n",
      "Actual: 225.00. Predicted: 504.31\n",
      "Actual: 415.00. Predicted: 275.07\n",
      "Actual: 1500.00. Predicted: 732.45\n",
      "Actual: 787.50. Predicted: 1936.49\n",
      "Actual: 475.00. Predicted: 486.46\n",
      "Actual: 67.50. Predicted: 121.84\n",
      "Actual: 215.00. Predicted: 121.84\n",
      "Actual: 773.33. Predicted: 732.45\n",
      "Actual: 750.00. Predicted: 504.31\n",
      "Actual: 75.00. Predicted: 121.84\n",
      "Actual: 740.00. Predicted: 504.31\n",
      "Actual: 800.00. Predicted: 504.31\n",
      "Actual: 100.00. Predicted: 504.31\n",
      "Actual: 155.00. Predicted: 121.84\n",
      "Actual: 850.00. Predicted: 504.31\n",
      "Actual: 500.00. Predicted: 732.45\n",
      "Actual: 165.00. Predicted: 121.84\n",
      "Actual: 550.00. Predicted: 638.33\n",
      "Actual: 1310.00. Predicted: 1936.49\n",
      "Actual: 1220.00. Predicted: 638.33\n",
      "Actual: 416.67. Predicted: 504.31\n",
      "Actual: 420.00. Predicted: 704.29\n",
      "Actual: 190.00. Predicted: 275.07\n",
      "Actual: 385.00. Predicted: 393.75\n",
      "Actual: 725.00. Predicted: 732.45\n",
      "Actual: 825.00. Predicted: 798.18\n",
      "Actual: 630.00. Predicted: 486.46\n",
      "Actual: 776.67. Predicted: 798.18\n",
      "Actual: 875.00. Predicted: 275.07\n",
      "Actual: 1200.00. Predicted: 732.45\n",
      "Actual: 1925.57. Predicted: 1183.33\n",
      "Actual: 175.00. Predicted: 920.00\n",
      "Actual: 195.00. Predicted: 275.07\n",
      "Actual: 185.00. Predicted: 275.07\n",
      "Actual: 625.00. Predicted: 486.46\n",
      "Actual: 341.67. Predicted: 393.75\n",
      "Actual: 365.00. Predicted: 486.46\n",
      "Actual: 135.00. Predicted: 920.00\n",
      "Actual: 110.00. Predicted: 121.84\n",
      "Actual: 90.00. Predicted: 1020.00\n",
      "Actual: 1150.00. Predicted: 638.33\n",
      "Actual: 215.00. Predicted: 275.07\n",
      "Actual: 765.00. Predicted: 1020.00\n",
      "Actual: 90.00. Predicted: 121.84\n",
      "Actual: 1237.50. Predicted: 1936.49\n",
      "Actual: 70.00. Predicted: 121.84\n",
      "Actual: 340.00. Predicted: 275.07\n",
      "Actual: 75.00. Predicted: 121.84\n",
      "Actual: 200.00. Predicted: 275.07\n",
      "Actual: 200.00. Predicted: 504.31\n",
      "Actual: 375.00. Predicted: 275.07\n",
      "Actual: 850.00. Predicted: 732.45\n",
      "Actual: 75.00. Predicted: 121.84\n",
      "Actual: 130.00. Predicted: 121.84\n",
      "Actual: 75.00. Predicted: 121.84\n",
      "Actual: 600.00. Predicted: 486.46\n",
      "Actual: 2127.33. Predicted: 920.00\n",
      "Actual: 595.00. Predicted: 276.25\n",
      "Actual: 100.00. Predicted: 121.84\n",
      "Actual: 125.00. Predicted: 121.84\n",
      "Actual: 750.00. Predicted: 638.33\n",
      "Actual: 200.00. Predicted: 275.07\n",
      "Actual: 400.00. Predicted: 504.31\n",
      "Actual: 875.00. Predicted: 1183.33\n",
      "Actual: 1940.00. Predicted: 732.45\n",
      "Actual: 120.00. Predicted: 121.84\n",
      "Actual: 450.00. Predicted: 504.31\n",
      "Actual: 580.00. Predicted: 638.33\n",
      "Actual: 70.00. Predicted: 121.84\n",
      "Actual: 550.00. Predicted: 275.07\n",
      "Actual: 300.00. Predicted: 121.84\n",
      "Actual: 1008.33. Predicted: 638.33\n",
      "Actual: 640.00. Predicted: 638.33\n",
      "Actual: 300.00. Predicted: 275.07\n",
      "Actual: 740.00. Predicted: 798.18\n",
      "Actual: 750.00. Predicted: 486.46\n",
      "Actual: 277.50. Predicted: 275.07\n",
      "Actual: 200.00. Predicted: 121.84\n",
      "Actual: 2460.00. Predicted: 1183.33\n",
      "Actual: 155.00. Predicted: 275.07\n",
      "Actual: 265.00. Predicted: 121.84\n",
      "Actual: 780.00. Predicted: 486.46\n",
      "Actual: 100.00. Predicted: 121.84\n",
      "Actual: 155.00. Predicted: 121.84\n",
      "Actual: 512.50. Predicted: 275.07\n",
      "Actual: 550.00. Predicted: 275.07\n",
      "Actual: 1175.00. Predicted: 638.33\n",
      "Actual: 90.00. Predicted: 121.84\n",
      "Actual: 91.50. Predicted: 121.84\n",
      "Actual: 925.00. Predicted: 798.18\n",
      "Actual: 1000.00. Predicted: 798.18\n",
      "Actual: 425.00. Predicted: 486.46\n",
      "Actual: 535.00. Predicted: 1183.33\n",
      "Actual: 275.00. Predicted: 275.07\n",
      "Actual: 430.00. Predicted: 504.31\n",
      "Actual: 675.00. Predicted: 798.18\n",
      "Actual: 700.00. Predicted: 275.07\n",
      "Actual: 500.00. Predicted: 732.45\n",
      "Actual: 1050.00. Predicted: 504.31\n",
      "Actual: 190.00. Predicted: 920.00\n",
      "Actual: 950.00. Predicted: 1210.42\n",
      "Actual: 230.00. Predicted: 275.07\n",
      "Actual: 115.00. Predicted: 121.84\n",
      "Actual: 100.00. Predicted: 275.07\n",
      "Actual: 1260.00. Predicted: 732.45\n",
      "Actual: 530.00. Predicted: 1020.00\n",
      "Actual: 140.00. Predicted: 121.84\n",
      "Actual: 275.00. Predicted: 504.31\n",
      "Actual: 933.33. Predicted: 1210.42\n",
      "Actual: 175.00. Predicted: 275.07\n",
      "Actual: 1350.00. Predicted: 704.29\n",
      "Actual: 240.00. Predicted: 504.31\n",
      "Actual: 326.67. Predicted: 275.07\n",
      "Actual: 250.00. Predicted: 275.07\n",
      "Actual: 450.00. Predicted: 276.25\n",
      "Actual: 365.00. Predicted: 504.31\n",
      "Actual: 400.00. Predicted: 486.46\n",
      "Actual: 150.00. Predicted: 275.07\n",
      "Actual: 105.00. Predicted: 121.84\n",
      "Actual: 90.00. Predicted: 121.84\n",
      "Actual: 385.00. Predicted: 275.07\n",
      "Actual: 400.00. Predicted: 638.33\n",
      "Actual: 960.00. Predicted: 1936.49\n"
     ]
    }
   ],
   "source": [
    "def print_prediction_results(df, tree, objetivo):\n",
    "    \"\"\"Print actual and predicted values for each row in the DataFrame.\"\"\"\n",
    "    for index, row in df.iterrows():\n",
    "        actual = row[objetivo]  # Get the actual value from the target column\n",
    "        predicted = predict(row, tree)  # Predict the value using the decision tree\n",
    "        print(\"Actual: {:.2f}. Predicted: {:.2f}\".format(actual, predicted))\n",
    "\n",
    "# Example usage:\n",
    "print_prediction_results(test_data, my_tree, 'Salary')  # Replace 'Salary' with your target column\n"
   ]
  }
 ],
 "metadata": {
  "kernelspec": {
   "display_name": "Python 3 (ipykernel)",
   "language": "python",
   "name": "python3"
  },
  "language_info": {
   "codemirror_mode": {
    "name": "ipython",
    "version": 3
   },
   "file_extension": ".py",
   "mimetype": "text/x-python",
   "name": "python",
   "nbconvert_exporter": "python",
   "pygments_lexer": "ipython3",
   "version": "3.10.11"
  }
 },
 "nbformat": 4,
 "nbformat_minor": 2
}
